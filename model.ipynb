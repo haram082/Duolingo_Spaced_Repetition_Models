{
 "cells": [
  {
   "cell_type": "code",
   "execution_count": 1,
   "metadata": {},
   "outputs": [],
   "source": [
    "from experiment import SpacedRepetitionModel, read_data\n",
    "import os\n",
    "input_file = 'learning_traces.13m.csv'\n",
    "omit_bias = True\n",
    "omit_lexemes = True\n",
    "max_lines = 1000\n",
    "omit_h_term = True"
   ]
  },
  {
   "cell_type": "code",
   "execution_count": 2,
   "metadata": {},
   "outputs": [
    {
     "name": "stdout",
     "output_type": "stream",
     "text": [
      "right 0.00655187775480482\n",
      "wrong 0.002703753596966013\n"
     ]
    },
    {
     "name": "stderr",
     "output_type": "stream",
     "text": [
      "reading data...0...done!\n",
      "test\t20726.6 (p=18.1, h=20708.5, l2=0.0)\tmae(p)=0.240\tcor(p)=0.029\tmae(h)=93.502\tcor(h)=-0.054\n"
     ]
    }
   ],
   "source": [
    "# read data set\n",
    "method ='hlr'\n",
    "trainset, testset = read_data(input_file, method, omit_bias, omit_lexemes, max_lines)\n",
    "\n",
    "# train model & print preliminary evaluation info\n",
    "model = SpacedRepetitionModel(method=method, omit_h_term=omit_h_term)\n",
    "model.train(trainset)\n",
    "model.eval(testset, 'test')\n",
    "\n",
    "# write out model weights and predictions\n",
    "# you might want to adjust the file paths and names to suit your needs\n",
    "model.dump_weights('results/weights')\n",
    "model.dump_predictions('results/preds', testset)"
   ]
  },
  {
   "cell_type": "markdown",
   "metadata": {},
   "source": []
  },
  {
   "cell_type": "code",
   "execution_count": 2,
   "metadata": {},
   "outputs": [],
   "source": [
    "def model_eval(method, input_file, max_lines, omit_bias = True, omit_lexemes= True, omit_h_term= True):\n",
    "    trainset, testset = read_data(input_file, method, omit_bias, omit_lexemes, max_lines)\n",
    "    model = SpacedRepetitionModel(method=method, omit_h_term=omit_h_term)\n",
    "    model.train(trainset)\n",
    "    model.eval(testset, 'test')\n",
    "    if not os.path.exists('results/'+method+'/'):\n",
    "        os.makedirs('results/'+method+'/')\n",
    "    model.dump_weights(f'results/{method}/weights')\n",
    "    model.dump_predictions(f'results/{method}/preds', testset)\n",
    "\n",
    "    \n"
   ]
  },
  {
   "cell_type": "code",
   "execution_count": 4,
   "metadata": {},
   "outputs": [
    {
     "name": "stderr",
     "output_type": "stream",
     "text": [
      "reading data...0...done!\n"
     ]
    },
    {
     "name": "stdout",
     "output_type": "stream",
     "text": [
      "right 0.02042673239736472\n",
      "wrong 0.009217389012885747\n"
     ]
    },
    {
     "name": "stderr",
     "output_type": "stream",
     "text": [
      "test\t430003.9 (p=402.3, h=429601.6, l2=0.0)\tmae(p)=0.488\tcor(p)=0.051\tmae(h)=166.943\tcor(h)=-0.218\n"
     ]
    }
   ],
   "source": [
    "model_eval('hlr', 'learning_traces.13m.csv', 10000, True, True, True)"
   ]
  }
 ],
 "metadata": {
  "kernelspec": {
   "display_name": "Python 3",
   "language": "python",
   "name": "python3"
  },
  "language_info": {
   "codemirror_mode": {
    "name": "ipython",
    "version": 3
   },
   "file_extension": ".py",
   "mimetype": "text/x-python",
   "name": "python",
   "nbconvert_exporter": "python",
   "pygments_lexer": "ipython3",
   "version": "3.11.8"
  }
 },
 "nbformat": 4,
 "nbformat_minor": 2
}
